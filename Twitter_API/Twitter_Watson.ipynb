{
 "cells": [
  {
   "cell_type": "code",
   "execution_count": 1,
   "metadata": {
    "collapsed": true
   },
   "outputs": [],
   "source": [
    "import json\n",
    "from io import StringIO\n",
    "from tqdm import tqdm\n",
    "from watson_developer_cloud import NaturalLanguageUnderstandingV1\n",
    "from watson_developer_cloud.natural_language_understanding_v1 import Features, ConceptsOptions, CategoriesOptions, EmotionOptions, EntitiesOptions, KeywordsOptions, MetadataOptions, RelationsOptions, SemanticRolesOptions, SentimentOptions"
   ]
  },
  {
   "cell_type": "code",
   "execution_count": 2,
   "metadata": {
    "collapsed": true
   },
   "outputs": [],
   "source": [
    "natural_language_understanding = NaturalLanguageUnderstandingV1(url=\"https://gateway-fra.watsonplatform.net/natural-language-understanding/api\",\n",
    "                                                                username='545acdbc-0fa8-4807-ac6a-be86d3ca158c',\n",
    "                                                                password='2SewOkZVnxrq',\n",
    "                                                                version='2018-03-16')"
   ]
  },
  {
   "cell_type": "code",
   "execution_count": 3,
   "metadata": {
    "collapsed": true
   },
   "outputs": [],
   "source": [
    "def askWatson(text):\n",
    "    response = natural_language_understanding.analyze(text=text,\n",
    "                                                      return_analyzed_text=False,\n",
    "                                                      features=Features(\n",
    "                                                          #concepts=ConceptsOptions(),\n",
    "                                                          #categories=CategoriesOptions(),\n",
    "                                                          emotion=EmotionOptions(),\n",
    "                                                          entities=EntitiesOptions(emotion=True,\n",
    "                                                                                   limit=5),\n",
    "                                                          #keywords=KeywordsOptions(),\n",
    "                                                          #relations=RelationsOptions(),\n",
    "                                                          #semantic_roles=SemanticRolesOptions(),\n",
    "                                                          sentiment=SentimentOptions()))\n",
    "\n",
    "    return response"
   ]
  },
  {
   "cell_type": "code",
   "execution_count": 4,
   "metadata": {
    "collapsed": true,
    "scrolled": false
   },
   "outputs": [],
   "source": [
    "with open('/home/jm/Desktop/Hack/NIHackTwistory/Twitter_API/Twitter_Mitschnitt_2.json') as f:\n",
    "    file = f.read().replace('}{', '}\\n{')"
   ]
  },
  {
   "cell_type": "code",
   "execution_count": 5,
   "metadata": {},
   "outputs": [
    {
     "name": "stderr",
     "output_type": "stream",
     "text": [
      "20it [00:08,  3.16it/s]\n"
     ]
    }
   ],
   "source": [
    "i = 0\n",
    "for line in tqdm(StringIO(file)):\n",
    "    i += 1\n",
    "    if i>20:\n",
    "        break\n",
    "    tweet = json.loads(line)\n",
    "    tweet_id = tweet['id']\n",
    "    tweet_text = tweet['text']\n",
    "    \n",
    "    try:\n",
    "        response = askWatson(tweet_text)\n",
    "    except:\n",
    "        response = dict()\n",
    "    data = {'tweet_id':tweet_id,\n",
    "            'watson':response}\n",
    "    with open('/home/jm/Desktop/Watson.txt', 'a') as f:\n",
    "        json.dump(data, f)\n",
    "        f.write('\\n')"
   ]
  },
  {
   "cell_type": "code",
   "execution_count": 6,
   "metadata": {
    "collapsed": true
   },
   "outputs": [],
   "source": [
    "del file"
   ]
  },
  {
   "cell_type": "code",
   "execution_count": null,
   "metadata": {
    "collapsed": true
   },
   "outputs": [],
   "source": []
  }
 ],
 "metadata": {
  "kernelspec": {
   "display_name": "Python 3",
   "language": "python",
   "name": "python3"
  },
  "language_info": {
   "codemirror_mode": {
    "name": "ipython",
    "version": 3
   },
   "file_extension": ".py",
   "mimetype": "text/x-python",
   "name": "python",
   "nbconvert_exporter": "python",
   "pygments_lexer": "ipython3",
   "version": "3.6.1"
  }
 },
 "nbformat": 4,
 "nbformat_minor": 2
}
