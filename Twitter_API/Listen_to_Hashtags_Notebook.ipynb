{
 "cells": [
  {
   "cell_type": "markdown",
   "metadata": {},
   "source": [
    "# Listen to a hashtag for the latest Tweets"
   ]
  },
  {
   "cell_type": "code",
   "execution_count": null,
   "metadata": {
    "collapsed": true
   },
   "outputs": [],
   "source": [
    "# Import all necessary libraries\n",
    "from tweepy import Stream\n",
    "from tweepy import OAuthHandler\n",
    "from tweepy.streaming import StreamListener\n",
    "\n",
    "import json\n",
    "import csv"
   ]
  },
  {
   "cell_type": "code",
   "execution_count": null,
   "metadata": {
    "collapsed": true
   },
   "outputs": [],
   "source": [
    "# Path to the tweepy authentication tokens\n",
    "path_auth = 'Twitter_API_Auth.csv'\n",
    "\n",
    "# Path to store the tweets\n",
    "path_tweets = 'build/'\n",
    "\n",
    "# Name of the tweets-json\n",
    "name_json = 'Tweets_#maga.json'\n",
    "\n",
    "# Hashtags to listen to\n",
    "hashtags = ['#maga']"
   ]
  },
  {
   "cell_type": "code",
   "execution_count": null,
   "metadata": {
    "collapsed": true
   },
   "outputs": [],
   "source": [
    "# Load tweepy authentication\n",
    "with open(path_auth) as f:\n",
    "    file = list(csv.reader(f))\n",
    "    ckey = file[0][0]\n",
    "    csecret = file[1][0]\n",
    "    atoken = file[2][0]\n",
    "    asecret = file[3][0]"
   ]
  },
  {
   "cell_type": "code",
   "execution_count": null,
   "metadata": {
    "collapsed": true
   },
   "outputs": [],
   "source": [
    "# Create a class to stream recent Tweets to the json-file\n",
    "class listener(StreamListener):\n",
    "    def on_data(self, data):\n",
    "        try:\n",
    "            # Load the json-data\n",
    "            loaded = json.loads(data)\n",
    "\n",
    "            # Open the json-file and store the Tweet\n",
    "            with open(path_tweets+name_json, 'a') as f:\n",
    "                json.dump(loaded, f)\n",
    "                \n",
    "        except BaseException as e:\n",
    "            # Print the exception, wait and proceed\n",
    "            print('Failed ondata, ', str(e))\n",
    "            time.sleep(5)\n",
    "        return True\n",
    "    \n",
    "    # If an error occurs, print it\n",
    "    def on_error(self, status):\n",
    "        print('Error, ', status)"
   ]
  },
  {
   "cell_type": "code",
   "execution_count": null,
   "metadata": {
    "collapsed": true
   },
   "outputs": [],
   "source": [
    "# Authenticate this App\n",
    "auth = OAuthHandler(ckey, csecret)\n",
    "auth.set_access_token(atoken, asecret)"
   ]
  },
  {
   "cell_type": "code",
   "execution_count": null,
   "metadata": {},
   "outputs": [],
   "source": [
    "while True:\n",
    "    # Create a listener-instance and save new Tweets to the json-file\n",
    "    twitterStream = Stream(auth, listener())\n",
    "    twitterStream.filter(track=hashtags)"
   ]
  },
  {
   "cell_type": "code",
   "execution_count": null,
   "metadata": {
    "collapsed": true
   },
   "outputs": [],
   "source": []
  }
 ],
 "metadata": {
  "kernelspec": {
   "display_name": "Python 3",
   "language": "python",
   "name": "python3"
  },
  "language_info": {
   "codemirror_mode": {
    "name": "ipython",
    "version": 3
   },
   "file_extension": ".py",
   "mimetype": "text/x-python",
   "name": "python",
   "nbconvert_exporter": "python",
   "pygments_lexer": "ipython3",
   "version": "3.6.1"
  }
 },
 "nbformat": 4,
 "nbformat_minor": 2
}
