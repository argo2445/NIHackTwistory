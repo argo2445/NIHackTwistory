{
 "cells": [
  {
   "cell_type": "code",
   "execution_count": 2,
   "metadata": {
    "collapsed": true
   },
   "outputs": [],
   "source": [
    "import json\n",
    "import pymysql"
   ]
  },
  {
   "cell_type": "code",
   "execution_count": 4,
   "metadata": {},
   "outputs": [
    {
     "name": "stdout",
     "output_type": "stream",
     "text": [
      "('user_id', 'bigint(20) unsigned', 'NO', 'PRI', None, '')\n",
      "('screen_name', 'varchar(20)', 'NO', 'MUL', None, '')\n",
      "('name', 'varchar(20)', 'YES', 'MUL', None, '')\n",
      "('profile_image_url', 'varchar(200)', 'YES', '', None, '')\n",
      "('location', 'varchar(30)', 'YES', '', None, '')\n",
      "('url', 'varchar(200)', 'YES', '', None, '')\n",
      "('description', 'varchar(200)', 'YES', 'MUL', None, '')\n",
      "('created_at', 'varchar(60)', 'NO', '', None, '')\n",
      "('followers_count', 'int(10) unsigned', 'YES', '', None, '')\n",
      "('friends_count', 'int(10) unsigned', 'YES', '', None, '')\n",
      "('statuses_count', 'int(10) unsigned', 'YES', '', None, '')\n",
      "('time_zone', 'varchar(40)', 'YES', '', None, '')\n",
      "('last_update', 'timestamp', 'NO', 'MUL', 'current_timestamp()', '')\n"
     ]
    }
   ],
   "source": [
    "try:\n",
    "    conn = pymysql.connect(host='192.168.0.11', port=3306, user='root', passwd='geheim', db='mysql')\n",
    "    \n",
    "    cur = conn.cursor()\n",
    "    cur.execute('USE twistory')\n",
    "\n",
    "    cur.execute('SHOW COLUMNS FROM users')\n",
    "\n",
    "    for ans in cur:\n",
    "        print(ans)\n",
    "    \n",
    "except:\n",
    "    raise\n",
    "    \n",
    "finally:\n",
    "    cur.close()\n",
    "    conn.close()"
   ]
  },
  {
   "cell_type": "code",
   "execution_count": 5,
   "metadata": {},
   "outputs": [
    {
     "name": "stderr",
     "output_type": "stream",
     "text": [
      "100%|██████████| 10/10 [00:00<00:00, 20106.92it/s]"
     ]
    },
    {
     "name": "stdout",
     "output_type": "stream",
     "text": [
      "('Massachusetts',)\n",
      "('San Francisco',)\n",
      "('lugar de los emparedados ',)\n",
      "('NJ/NYC area...heart in NOLA',)\n",
      "('Hagerstown',)\n",
      "('San Diego, CA',)\n",
      "('Alberta, Canada',)\n",
      "('London, England',)\n",
      "('Rome, Italy',)\n",
      "('Surrey, BC',)\n"
     ]
    },
    {
     "name": "stderr",
     "output_type": "stream",
     "text": [
      "\n"
     ]
    }
   ],
   "source": [
    "try:\n",
    "    conn = pymysql.connect(host='192.168.0.11', port=3306, user='root', passwd='geheim', db='mysql')\n",
    "    \n",
    "    cur = conn.cursor()\n",
    "    cur.execute('USE twistory')\n",
    "\n",
    "    cur.execute('SELECT location FROM users LIMIT 10')\n",
    "\n",
    "    data = cur.fetchall()\n",
    "    for geo_lat in tqdm(data):\n",
    "        print(geo_lat)             \n",
    "except:\n",
    "    raise\n",
    "    \n",
    "finally:\n",
    "    cur.close()\n",
    "    conn.close()"
   ]
  },
  {
   "cell_type": "code",
   "execution_count": null,
   "metadata": {
    "collapsed": true
   },
   "outputs": [],
   "source": []
  },
  {
   "cell_type": "code",
   "execution_count": null,
   "metadata": {
    "collapsed": true
   },
   "outputs": [],
   "source": []
  },
  {
   "cell_type": "code",
   "execution_count": null,
   "metadata": {
    "collapsed": true
   },
   "outputs": [],
   "source": []
  },
  {
   "cell_type": "code",
   "execution_count": null,
   "metadata": {
    "collapsed": true
   },
   "outputs": [],
   "source": []
  },
  {
   "cell_type": "code",
   "execution_count": 15,
   "metadata": {},
   "outputs": [
    {
     "name": "stdout",
     "output_type": "stream",
     "text": [
      "(1005414395562864641, 4156223117, 'RT @Linus2k: Io non rosico.\\r\\n\\r\\nIo mi vergogno.\\r\\n\\r\\n#conte #g7 #canada', None, 'Sat Jun 09 11:40:46 +0000 2018', None, None, 'zan514', 'it', 1, None, None, None, None, None, None, 0)\n",
      "(1005414401409765376, 2258870403, 'RT @returnofthema13: #g7 anche i camerieri dei grandi alberghi parlano più lingue e sono altrettanto servizievoli di #conte.', None, 'Sat Jun 09 11:40:47 +0000 2018', None, None, 'BignamiBignami', 'it', 1, None, None, None, None, None, None, 0)\n",
      "(1005414405989945347, 588529368, 'RT @RedTRaccoon: Trump explaining in the most basic terms why Russia should be part of the #G72018 summit.\\r\\n\\r\\nOur President has flipped sides\\x85', None, 'Sat Jun 09 11:40:48 +0000 2018', None, None, 'JgoBluewave', 'en', 1, 0.569252, 0.409083, 0.105143, 0.050645, 0.439003, 0.207611, 0)\n",
      "(1005414407956918272, 135395894, 'RT @hamemen: ?????????????????????????????????? https://t.co/kamtOgEXKN', None, 'Sat Jun 09 11:40:49 +0000 2018', None, None, 'Tzipporah3053', 'ja', 1, None, None, None, None, None, None, 0)\n",
      "(1005414409445863424, 238117212, 'RT @EmmanuelMacron: #G7Charlevoix https://t.co/KmNBEeWo9m', None, 'Sat Jun 09 11:40:49 +0000 2018', None, None, 'ariksii', 'und', 1, None, None, None, None, None, None, 0)\n"
     ]
    }
   ],
   "source": [
    "try:\n",
    "    conn = pymysql.connect(host='192.168.0.11', port=3306, user='root', passwd='geheim', db='mysql')\n",
    "    \n",
    "    cur = conn.cursor()\n",
    "    cur.execute('USE twistory')\n",
    "\n",
    "    cur.execute('SELECT * FROM tweets LIMIT 5')\n",
    "\n",
    "    data = cur.fetchall()\n",
    "    for row in data:\n",
    "        print(row)\n",
    "        \n",
    "    \n",
    "    \n",
    "    \n",
    "except:\n",
    "    raise\n",
    "    \n",
    "finally:\n",
    "    cur.close()\n",
    "    conn.close()"
   ]
  },
  {
   "cell_type": "code",
   "execution_count": null,
   "metadata": {
    "collapsed": true
   },
   "outputs": [],
   "source": []
  },
  {
   "cell_type": "code",
   "execution_count": null,
   "metadata": {
    "collapsed": true
   },
   "outputs": [],
   "source": []
  },
  {
   "cell_type": "code",
   "execution_count": null,
   "metadata": {
    "collapsed": true
   },
   "outputs": [],
   "source": []
  },
  {
   "cell_type": "code",
   "execution_count": null,
   "metadata": {
    "collapsed": true
   },
   "outputs": [],
   "source": []
  },
  {
   "cell_type": "code",
   "execution_count": null,
   "metadata": {
    "collapsed": true
   },
   "outputs": [],
   "source": []
  },
  {
   "cell_type": "code",
   "execution_count": null,
   "metadata": {
    "collapsed": true
   },
   "outputs": [],
   "source": []
  },
  {
   "cell_type": "code",
   "execution_count": null,
   "metadata": {
    "collapsed": true
   },
   "outputs": [],
   "source": []
  },
  {
   "cell_type": "code",
   "execution_count": null,
   "metadata": {
    "collapsed": true
   },
   "outputs": [],
   "source": []
  },
  {
   "cell_type": "code",
   "execution_count": null,
   "metadata": {
    "collapsed": true
   },
   "outputs": [],
   "source": []
  },
  {
   "cell_type": "code",
   "execution_count": null,
   "metadata": {
    "collapsed": true
   },
   "outputs": [],
   "source": []
  }
 ],
 "metadata": {
  "kernelspec": {
   "display_name": "Python 3",
   "language": "python",
   "name": "python3"
  },
  "language_info": {
   "codemirror_mode": {
    "name": "ipython",
    "version": 3
   },
   "file_extension": ".py",
   "mimetype": "text/x-python",
   "name": "python",
   "nbconvert_exporter": "python",
   "pygments_lexer": "ipython3",
   "version": "3.6.1"
  }
 },
 "nbformat": 4,
 "nbformat_minor": 2
}
