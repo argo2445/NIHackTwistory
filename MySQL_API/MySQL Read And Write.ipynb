{
 "cells": [
  {
   "cell_type": "code",
   "execution_count": 1,
   "metadata": {
    "collapsed": true
   },
   "outputs": [],
   "source": [
    "import json\n",
    "import pymysql\n",
    "from tqdm import tqdm\n",
    "from watson_developer_cloud import NaturalLanguageUnderstandingV1\n",
    "from watson_developer_cloud.natural_language_understanding_v1 import Features, ConceptsOptions, CategoriesOptions, EmotionOptions, EntitiesOptions, KeywordsOptions, MetadataOptions, RelationsOptions, SemanticRolesOptions, SentimentOptions"
   ]
  },
  {
   "cell_type": "code",
   "execution_count": 2,
   "metadata": {
    "collapsed": true
   },
   "outputs": [],
   "source": [
    "natural_language_understanding = NaturalLanguageUnderstandingV1(url=\"https://gateway-fra.watsonplatform.net/natural-language-understanding/api\",\n",
    "                                                                username='545acdbc-0fa8-4807-ac6a-be86d3ca158c',\n",
    "                                                                password='2SewOkZVnxrq',\n",
    "                                                                version='2018-03-16')"
   ]
  },
  {
   "cell_type": "code",
   "execution_count": 3,
   "metadata": {
    "collapsed": true
   },
   "outputs": [],
   "source": [
    "def askWatson(text):\n",
    "    response = natural_language_understanding.analyze(text=text,\n",
    "                                                      return_analyzed_text=False,\n",
    "                                                      features=Features(\n",
    "                                                          #concepts=ConceptsOptions(),\n",
    "                                                          #categories=CategoriesOptions(),\n",
    "                                                          emotion=EmotionOptions(),\n",
    "                                                          entities=EntitiesOptions(emotion=True,\n",
    "                                                                                   limit=5),\n",
    "                                                          #keywords=KeywordsOptions(),\n",
    "                                                          #relations=RelationsOptions(),\n",
    "                                                          #semantic_roles=SemanticRolesOptions(),\n",
    "                                                          sentiment=SentimentOptions()))\n",
    "\n",
    "    return response"
   ]
  },
  {
   "cell_type": "code",
   "execution_count": 4,
   "metadata": {},
   "outputs": [
    {
     "name": "stdout",
     "output_type": "stream",
     "text": [
      "('tweet_id', 'bigint(20) unsigned', 'NO', 'PRI', None, '')\n",
      "('user_id', 'bigint(20) unsigned', 'NO', 'MUL', None, '')\n",
      "('tweet_text', 'varchar(400)', 'NO', 'MUL', None, '')\n",
      "('name', 'varchar(20)', 'YES', 'MUL', None, '')\n",
      "('created_at', 'varchar(60)', 'YES', 'MUL', None, '')\n",
      "('geo_lat', 'decimal(10,5)', 'YES', '', None, '')\n",
      "('geo_long', 'decimal(10,5)', 'YES', '', None, '')\n",
      "('screen_name', 'char(20)', 'NO', 'MUL', None, '')\n",
      "('lang', 'varchar(50)', 'NO', '', None, '')\n",
      "('is_rt', 'tinyint(1)', 'NO', '', None, '')\n",
      "('sentiment', 'float', 'YES', '', None, '')\n",
      "('sadness', 'float', 'YES', '', None, '')\n",
      "('joy', 'float', 'YES', '', None, '')\n",
      "('fear', 'float', 'YES', '', None, '')\n",
      "('disgust', 'float', 'YES', '', None, '')\n",
      "('anger', 'float', 'YES', '', None, '')\n",
      "('watson_processed', 'tinyint(1)', 'NO', '', '0', '')\n"
     ]
    }
   ],
   "source": [
    "try:\n",
    "    conn = pymysql.connect(host='192.168.0.11', port=3306, user='root', passwd='geheim', db='mysql')\n",
    "    \n",
    "    cur = conn.cursor()\n",
    "    cur.execute('USE twistory')\n",
    "\n",
    "    cur.execute('SHOW COLUMNS FROM tweets')\n",
    "\n",
    "    for ans in cur:\n",
    "        print(ans)\n",
    "    \n",
    "except:\n",
    "    raise\n",
    "    \n",
    "finally:\n",
    "    cur.close()\n",
    "    conn.close()"
   ]
  },
  {
   "cell_type": "code",
   "execution_count": null,
   "metadata": {},
   "outputs": [
    {
     "name": "stderr",
     "output_type": "stream",
     "text": [
      " 79%|███████▉  | 3970/5000 [21:23<05:40,  3.02it/s]"
     ]
    }
   ],
   "source": [
    "try:\n",
    "    conn = pymysql.connect(host='192.168.0.11', port=3306, user='root', passwd='geheim', db='mysql')\n",
    "    \n",
    "    cur = conn.cursor()\n",
    "    cur.execute('USE twistory')\n",
    "\n",
    "    cur.execute('SELECT tweet_id, tweet_text FROM tweets WHERE watson_processed=0 LIMIT 5000')\n",
    "\n",
    "    data = cur.fetchall()\n",
    "    for tweet_id, tweet_text in tqdm(data):\n",
    "        try:\n",
    "            response = askWatson(tweet_text)\n",
    "            statement = 'UPDATE tweets SET sentiment=%s, sadness=%s, joy=%s, fear=%s, disgust=%s, anger=%s, watson_processed=%s WHERE tweet_id=%s'\n",
    "            \n",
    "            cur.execute(statement, [response['sentiment']['document']['score'], response['emotion']['document']['emotion']['sadness'], response['emotion']['document']['emotion']['joy'], response['emotion']['document']['emotion']['fear'], response['emotion']['document']['emotion']['disgust'], response['emotion']['document']['emotion']['anger'], 1, tweet_id])\n",
    "            conn.commit()\n",
    "        except:\n",
    "            statement = 'UPDATE tweets SET watson_processed=%s WHERE tweet_id=%s'\n",
    "            cur.execute(statement, [1, tweet_id])\n",
    "            conn.commit()\n",
    "            response = dict()\n",
    "            \n",
    "        data = {'tweet_id':tweet_id,\n",
    "                'watson':response}\n",
    "        with open('/home/jm/Desktop/Watson.txt', 'a') as f:\n",
    "            json.dump(data, f)\n",
    "            f.write('\\n')\n",
    "            \n",
    "except:\n",
    "    raise\n",
    "    \n",
    "finally:\n",
    "    cur.close()\n",
    "    conn.close()\n",
    "    \n",
    "    \n",
    "print('Done!')"
   ]
  },
  {
   "cell_type": "code",
   "execution_count": null,
   "metadata": {
    "collapsed": true
   },
   "outputs": [],
   "source": []
  },
  {
   "cell_type": "code",
   "execution_count": null,
   "metadata": {
    "collapsed": true
   },
   "outputs": [],
   "source": []
  },
  {
   "cell_type": "code",
   "execution_count": null,
   "metadata": {
    "collapsed": true
   },
   "outputs": [],
   "source": []
  },
  {
   "cell_type": "code",
   "execution_count": null,
   "metadata": {
    "collapsed": true
   },
   "outputs": [],
   "source": []
  },
  {
   "cell_type": "code",
   "execution_count": 15,
   "metadata": {},
   "outputs": [
    {
     "name": "stdout",
     "output_type": "stream",
     "text": [
      "(1005414395562864641, 4156223117, 'RT @Linus2k: Io non rosico.\\r\\n\\r\\nIo mi vergogno.\\r\\n\\r\\n#conte #g7 #canada', None, 'Sat Jun 09 11:40:46 +0000 2018', None, None, 'zan514', 'it', 1, None, None, None, None, None, None, 0)\n",
      "(1005414401409765376, 2258870403, 'RT @returnofthema13: #g7 anche i camerieri dei grandi alberghi parlano più lingue e sono altrettanto servizievoli di #conte.', None, 'Sat Jun 09 11:40:47 +0000 2018', None, None, 'BignamiBignami', 'it', 1, None, None, None, None, None, None, 0)\n",
      "(1005414405989945347, 588529368, 'RT @RedTRaccoon: Trump explaining in the most basic terms why Russia should be part of the #G72018 summit.\\r\\n\\r\\nOur President has flipped sides\\x85', None, 'Sat Jun 09 11:40:48 +0000 2018', None, None, 'JgoBluewave', 'en', 1, 0.569252, 0.409083, 0.105143, 0.050645, 0.439003, 0.207611, 0)\n",
      "(1005414407956918272, 135395894, 'RT @hamemen: ?????????????????????????????????? https://t.co/kamtOgEXKN', None, 'Sat Jun 09 11:40:49 +0000 2018', None, None, 'Tzipporah3053', 'ja', 1, None, None, None, None, None, None, 0)\n",
      "(1005414409445863424, 238117212, 'RT @EmmanuelMacron: #G7Charlevoix https://t.co/KmNBEeWo9m', None, 'Sat Jun 09 11:40:49 +0000 2018', None, None, 'ariksii', 'und', 1, None, None, None, None, None, None, 0)\n"
     ]
    }
   ],
   "source": [
    "try:\n",
    "    conn = pymysql.connect(host='192.168.0.11', port=3306, user='root', passwd='geheim', db='mysql')\n",
    "    \n",
    "    cur = conn.cursor()\n",
    "    cur.execute('USE twistory')\n",
    "\n",
    "    cur.execute('SELECT * FROM tweets LIMIT 5')\n",
    "\n",
    "    data = cur.fetchall()\n",
    "    for row in data:\n",
    "        print(row)\n",
    "        \n",
    "    \n",
    "    \n",
    "    \n",
    "except:\n",
    "    raise\n",
    "    \n",
    "finally:\n",
    "    cur.close()\n",
    "    conn.close()"
   ]
  },
  {
   "cell_type": "code",
   "execution_count": null,
   "metadata": {
    "collapsed": true
   },
   "outputs": [],
   "source": []
  },
  {
   "cell_type": "code",
   "execution_count": null,
   "metadata": {
    "collapsed": true
   },
   "outputs": [],
   "source": []
  },
  {
   "cell_type": "code",
   "execution_count": null,
   "metadata": {
    "collapsed": true
   },
   "outputs": [],
   "source": []
  },
  {
   "cell_type": "code",
   "execution_count": null,
   "metadata": {
    "collapsed": true
   },
   "outputs": [],
   "source": []
  },
  {
   "cell_type": "code",
   "execution_count": null,
   "metadata": {
    "collapsed": true
   },
   "outputs": [],
   "source": []
  },
  {
   "cell_type": "code",
   "execution_count": null,
   "metadata": {
    "collapsed": true
   },
   "outputs": [],
   "source": []
  },
  {
   "cell_type": "code",
   "execution_count": null,
   "metadata": {
    "collapsed": true
   },
   "outputs": [],
   "source": []
  },
  {
   "cell_type": "code",
   "execution_count": null,
   "metadata": {
    "collapsed": true
   },
   "outputs": [],
   "source": []
  },
  {
   "cell_type": "code",
   "execution_count": null,
   "metadata": {
    "collapsed": true
   },
   "outputs": [],
   "source": []
  },
  {
   "cell_type": "code",
   "execution_count": null,
   "metadata": {
    "collapsed": true
   },
   "outputs": [],
   "source": []
  }
 ],
 "metadata": {
  "kernelspec": {
   "display_name": "Python 3",
   "language": "python",
   "name": "python3"
  },
  "language_info": {
   "codemirror_mode": {
    "name": "ipython",
    "version": 3
   },
   "file_extension": ".py",
   "mimetype": "text/x-python",
   "name": "python",
   "nbconvert_exporter": "python",
   "pygments_lexer": "ipython3",
   "version": "3.6.1"
  }
 },
 "nbformat": 4,
 "nbformat_minor": 2
}
