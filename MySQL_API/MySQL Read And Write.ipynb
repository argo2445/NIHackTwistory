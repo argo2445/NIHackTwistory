{
 "cells": [
  {
   "cell_type": "code",
   "execution_count": 1,
   "metadata": {
    "collapsed": true
   },
   "outputs": [],
   "source": [
    "import json\n",
    "import pymysql\n",
    "from watson_developer_cloud import NaturalLanguageUnderstandingV1\n",
    "from watson_developer_cloud.natural_language_understanding_v1 import Features, ConceptsOptions, CategoriesOptions, EmotionOptions, EntitiesOptions, KeywordsOptions, MetadataOptions, RelationsOptions, SemanticRolesOptions, SentimentOptions"
   ]
  },
  {
   "cell_type": "code",
   "execution_count": 2,
   "metadata": {
    "collapsed": true
   },
   "outputs": [],
   "source": [
    "natural_language_understanding = NaturalLanguageUnderstandingV1(url=\"https://gateway-fra.watsonplatform.net/natural-language-understanding/api\",\n",
    "                                                                username='545acdbc-0fa8-4807-ac6a-be86d3ca158c',\n",
    "                                                                password='2SewOkZVnxrq',\n",
    "                                                                version='2018-03-16')"
   ]
  },
  {
   "cell_type": "code",
   "execution_count": 3,
   "metadata": {
    "collapsed": true
   },
   "outputs": [],
   "source": [
    "def askWatson(text):\n",
    "    response = natural_language_understanding.analyze(text=text,\n",
    "                                                      return_analyzed_text=False,\n",
    "                                                      features=Features(\n",
    "                                                          #concepts=ConceptsOptions(),\n",
    "                                                          #categories=CategoriesOptions(),\n",
    "                                                          emotion=EmotionOptions(),\n",
    "                                                          entities=EntitiesOptions(emotion=True,\n",
    "                                                                                   limit=5),\n",
    "                                                          #keywords=KeywordsOptions(),\n",
    "                                                          #relations=RelationsOptions(),\n",
    "                                                          #semantic_roles=SemanticRolesOptions(),\n",
    "                                                          sentiment=SentimentOptions()))\n",
    "\n",
    "    return response"
   ]
  },
  {
   "cell_type": "code",
   "execution_count": 6,
   "metadata": {},
   "outputs": [
    {
     "name": "stdout",
     "output_type": "stream",
     "text": [
      "('tweet_id', 'bigint(20) unsigned', 'NO', 'PRI', None, '')\n",
      "('user_id', 'bigint(20) unsigned', 'NO', 'MUL', None, '')\n",
      "('tweet_text', 'varchar(400)', 'NO', 'MUL', None, '')\n",
      "('name', 'varchar(20)', 'YES', 'MUL', None, '')\n",
      "('created_at', 'datetime', 'NO', 'MUL', None, '')\n",
      "('geo_lat', 'decimal(10,5)', 'YES', '', None, '')\n",
      "('geo_long', 'decimal(10,5)', 'YES', '', None, '')\n",
      "('screen_name', 'char(20)', 'NO', 'MUL', None, '')\n",
      "('lang', 'varchar(50)', 'NO', '', None, '')\n",
      "('is_rt', 'tinyint(1)', 'NO', '', None, '')\n",
      "('sentiment', 'float', 'YES', '', None, '')\n",
      "('sadness', 'float', 'YES', '', None, '')\n",
      "('joy', 'float', 'YES', '', None, '')\n",
      "('fear', 'float', 'YES', '', None, '')\n",
      "('disgust', 'float', 'YES', '', None, '')\n",
      "('anger', 'float', 'YES', '', None, '')\n"
     ]
    }
   ],
   "source": [
    "try:\n",
    "    conn = pymysql.connect(host='192.168.0.11', port=3306, user='root', passwd='geheim', db='mysql')\n",
    "    \n",
    "    cur = conn.cursor()\n",
    "    cur.execute('USE twistory')\n",
    "\n",
    "    cur.execute('SHOW COLUMNS FROM tweets')\n",
    "\n",
    "    for ans in cur:\n",
    "        print(ans)\n",
    "    \n",
    "except:\n",
    "    raise\n",
    "    \n",
    "finally:\n",
    "    cur.close()\n",
    "    conn.close()"
   ]
  },
  {
   "cell_type": "code",
   "execution_count": 29,
   "metadata": {},
   "outputs": [
    {
     "name": "stdout",
     "output_type": "stream",
     "text": [
      "No\n",
      "Yes\n",
      "Commit\n"
     ]
    }
   ],
   "source": [
    "try:\n",
    "    conn = pymysql.connect(host='192.168.0.11', port=3306, user='root', passwd='geheim', db='mysql')\n",
    "    \n",
    "    cur = conn.cursor()\n",
    "    cur.execute('USE twistory')\n",
    "\n",
    "    cur.execute('SELECT tweet_id, tweet_text FROM tweets WHERE watson_processed=0 LIMIT 5')\n",
    "\n",
    "    data = cur.fetchall()\n",
    "    for tweet_id, tweet_text in data:\n",
    "        try:\n",
    "            response = askWatson(tweet_text)\n",
    "            statement = 'UPDATE tweets SET sentiment=%s, sadness=%s, joy=%s, fear=%s, disgust=%s, anger=%s, watson_processed=%s WHERE tweet_id=%s'\n",
    "            \n",
    "            cur.execute(statement, [response['sentiment']['document']['score'], response['emotion']['document']['emotion']['sadness'], response['emotion']['document']['emotion']['joy'], response['emotion']['document']['emotion']['fear'], response['emotion']['document']['emotion']['disgust'], response['emotion']['document']['emotion']['anger'], 1, tweet_id])\n",
    "            conn.commit()\n",
    "        except:\n",
    "            statement = 'UPDATE tweets SET watson_processed=%s WHERE tweet_id=%s'\n",
    "            cur.execute(statement, [1, tweet_id])\n",
    "            conn.commit()\n",
    "    \n",
    "    \n",
    "    \n",
    "except:\n",
    "    raise\n",
    "    \n",
    "finally:\n",
    "    cur.close()\n",
    "    conn.close()"
   ]
  },
  {
   "cell_type": "code",
   "execution_count": null,
   "metadata": {
    "collapsed": true
   },
   "outputs": [],
   "source": []
  },
  {
   "cell_type": "code",
   "execution_count": null,
   "metadata": {
    "collapsed": true
   },
   "outputs": [],
   "source": []
  },
  {
   "cell_type": "code",
   "execution_count": null,
   "metadata": {
    "collapsed": true
   },
   "outputs": [],
   "source": []
  },
  {
   "cell_type": "code",
   "execution_count": null,
   "metadata": {
    "collapsed": true
   },
   "outputs": [],
   "source": []
  },
  {
   "cell_type": "code",
   "execution_count": 30,
   "metadata": {},
   "outputs": [
    {
     "name": "stdout",
     "output_type": "stream",
     "text": [
      "(1005414395562864641, 4156223117, 'RT @Linus2k: Io non rosico.\\n\\nIo mi vergogno.\\n\\n#conte #g7 #canada', None, 'Sat Jun 09 11:40:46 +0000 2018', None, None, 'zan514', 'it', 1, None, None, None, None, None, None, 1)\n",
      "(1005414405989945347, 588529368, 'RT @RedTRaccoon: Trump explaining in the most basic terms why Russia should be part of the #G72018 summit.\\n\\nOur President has flipped sides\\x85', None, 'Sat Jun 09 11:40:48 +0000 2018', None, None, 'JgoBluewave', 'en', 1, 0.569252, 0.409083, 0.105143, 0.050645, 0.439003, 0.207611, 1)\n"
     ]
    }
   ],
   "source": [
    "try:\n",
    "    conn = pymysql.connect(host='192.168.0.11', port=3306, user='root', passwd='geheim', db='mysql')\n",
    "    \n",
    "    cur = conn.cursor()\n",
    "    cur.execute('USE twistory')\n",
    "\n",
    "    cur.execute('SELECT * FROM tweets LIMIT 5')\n",
    "\n",
    "    data = cur.fetchall()\n",
    "    for row in data:\n",
    "        print(row)\n",
    "        \n",
    "    \n",
    "    \n",
    "    \n",
    "except:\n",
    "    raise\n",
    "    \n",
    "finally:\n",
    "    cur.close()\n",
    "    conn.close()"
   ]
  },
  {
   "cell_type": "code",
   "execution_count": 13,
   "metadata": {},
   "outputs": [
    {
     "data": {
      "text/plain": [
       "{'emotion': {'document': {'emotion': {'anger': 0.207611,\n",
       "    'disgust': 0.439003,\n",
       "    'fear': 0.050645,\n",
       "    'joy': 0.105143,\n",
       "    'sadness': 0.409083}}},\n",
       " 'entities': [{'count': 1,\n",
       "   'disambiguation': {'subtype': ['Country']},\n",
       "   'emotion': {'anger': 0.223246,\n",
       "    'disgust': 0.065413,\n",
       "    'fear': 0.064771,\n",
       "    'joy': 0.130513,\n",
       "    'sadness': 0.315629},\n",
       "   'relevance': 0.868667,\n",
       "   'text': 'Russia',\n",
       "   'type': 'Location'},\n",
       "  {'count': 1,\n",
       "   'emotion': {'anger': 0.31644,\n",
       "    'disgust': 0.369347,\n",
       "    'fear': 0.080315,\n",
       "    'joy': 0.092551,\n",
       "    'sadness': 0.311468},\n",
       "   'relevance': 0.814149,\n",
       "   'text': 'President',\n",
       "   'type': 'JobTitle'},\n",
       "  {'count': 1,\n",
       "   'relevance': 0.814149,\n",
       "   'text': '@RedTRaccoon',\n",
       "   'type': 'TwitterHandle'},\n",
       "  {'count': 1, 'relevance': 0.814149, 'text': '#G72018', 'type': 'Hashtag'}],\n",
       " 'language': 'en',\n",
       " 'sentiment': {'document': {'label': 'positive', 'score': 0.569252}},\n",
       " 'usage': {'features': 3, 'text_characters': 140, 'text_units': 1}}"
      ]
     },
     "execution_count": 13,
     "metadata": {},
     "output_type": "execute_result"
    }
   ],
   "source": [
    "response"
   ]
  },
  {
   "cell_type": "code",
   "execution_count": null,
   "metadata": {
    "collapsed": true
   },
   "outputs": [],
   "source": []
  },
  {
   "cell_type": "code",
   "execution_count": null,
   "metadata": {
    "collapsed": true
   },
   "outputs": [],
   "source": []
  },
  {
   "cell_type": "code",
   "execution_count": null,
   "metadata": {
    "collapsed": true
   },
   "outputs": [],
   "source": []
  },
  {
   "cell_type": "code",
   "execution_count": null,
   "metadata": {
    "collapsed": true
   },
   "outputs": [],
   "source": []
  },
  {
   "cell_type": "code",
   "execution_count": null,
   "metadata": {
    "collapsed": true
   },
   "outputs": [],
   "source": []
  }
 ],
 "metadata": {
  "kernelspec": {
   "display_name": "Python 3",
   "language": "python",
   "name": "python3"
  },
  "language_info": {
   "codemirror_mode": {
    "name": "ipython",
    "version": 3
   },
   "file_extension": ".py",
   "mimetype": "text/x-python",
   "name": "python",
   "nbconvert_exporter": "python",
   "pygments_lexer": "ipython3",
   "version": "3.6.1"
  }
 },
 "nbformat": 4,
 "nbformat_minor": 2
}
