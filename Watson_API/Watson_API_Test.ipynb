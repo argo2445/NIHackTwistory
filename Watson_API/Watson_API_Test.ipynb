{
 "cells": [
  {
   "cell_type": "code",
   "execution_count": 3,
   "metadata": {
    "collapsed": true
   },
   "outputs": [],
   "source": [
    "import json\n",
    "from watson_developer_cloud import NaturalLanguageUnderstandingV1\n",
    "from watson_developer_cloud.natural_language_understanding_v1 import Features, EntitiesOptions, KeywordsOptions"
   ]
  },
  {
   "cell_type": "code",
   "execution_count": 14,
   "metadata": {},
   "outputs": [],
   "source": [
    "natural_language_understanding = NaturalLanguageUnderstandingV1(url=\"https://gateway-fra.watsonplatform.net/natural-language-understanding/api\",\n",
    "                                                                username='545acdbc-0fa8-4807-ac6a-be86d3ca158c',\n",
    "                                                                password='2SewOkZVnxrq',\n",
    "                                                                version='2018-03-16')"
   ]
  },
  {
   "cell_type": "code",
   "execution_count": 31,
   "metadata": {
    "collapsed": true
   },
   "outputs": [],
   "source": [
    "text = 'IBM is an American multinational technology company headquartered in Armonk, New York, United States, with operations in over 170 countries.'"
   ]
  },
  {
   "cell_type": "code",
   "execution_count": 36,
   "metadata": {
    "scrolled": false
   },
   "outputs": [
    {
     "name": "stdout",
     "output_type": "stream",
     "text": [
      "{\n",
      "  \"usage\": {\n",
      "    \"text_units\": 1,\n",
      "    \"text_characters\": 140,\n",
      "    \"features\": 2\n",
      "  },\n",
      "  \"language\": \"en\",\n",
      "  \"keywords\": [\n",
      "    {\n",
      "      \"text\": \"American multinational technology\",\n",
      "      \"sentiment\": {\n",
      "        \"score\": 0.0,\n",
      "        \"label\": \"neutral\"\n",
      "      },\n",
      "      \"relevance\": 0.993518,\n",
      "      \"emotion\": {\n",
      "        \"sadness\": 0.085259,\n",
      "        \"joy\": 0.026169,\n",
      "        \"fear\": 0.02454,\n",
      "        \"disgust\": 0.088711,\n",
      "        \"anger\": 0.033078\n",
      "      }\n",
      "    },\n",
      "    {\n",
      "      \"text\": \"New York\",\n",
      "      \"sentiment\": {\n",
      "        \"score\": 0.0,\n",
      "        \"label\": \"neutral\"\n",
      "      },\n",
      "      \"relevance\": 0.613816,\n",
      "      \"emotion\": {\n",
      "        \"sadness\": 0.166741,\n",
      "        \"joy\": 0.228903,\n",
      "        \"fear\": 0.057987,\n",
      "        \"disgust\": 0.050965,\n",
      "        \"anger\": 0.054653\n",
      "      }\n",
      "    }\n",
      "  ],\n",
      "  \"entities\": [\n",
      "    {\n",
      "      \"type\": \"Company\",\n",
      "      \"text\": \"IBM\",\n",
      "      \"sentiment\": {\n",
      "        \"score\": 0.0,\n",
      "        \"label\": \"neutral\"\n",
      "      },\n",
      "      \"relevance\": 0.33,\n",
      "      \"emotion\": {\n",
      "        \"sadness\": 0.085259,\n",
      "        \"joy\": 0.026169,\n",
      "        \"fear\": 0.02454,\n",
      "        \"disgust\": 0.088711,\n",
      "        \"anger\": 0.033078\n",
      "      },\n",
      "      \"disambiguation\": {\n",
      "        \"subtype\": [\n",
      "          \"SoftwareLicense\",\n",
      "          \"OperatingSystemDeveloper\",\n",
      "          \"ProcessorManufacturer\",\n",
      "          \"SoftwareDeveloper\",\n",
      "          \"CompanyFounder\",\n",
      "          \"ProgrammingLanguageDesigner\",\n",
      "          \"ProgrammingLanguageDeveloper\"\n",
      "        ],\n",
      "        \"name\": \"IBM\",\n",
      "        \"dbpedia_resource\": \"http://dbpedia.org/resource/IBM\"\n",
      "      },\n",
      "      \"count\": 1\n",
      "    }\n",
      "  ]\n",
      "}\n"
     ]
    }
   ],
   "source": [
    "response = natural_language_understanding.analyze(text=text,\n",
    "                                                  features=Features(entities=EntitiesOptions(emotion=True,\n",
    "                                                                                             sentiment=True,\n",
    "                                                                                             limit=2),\n",
    "                                                                    keywords=KeywordsOptions(emotion=True,\n",
    "                                                                                             sentiment=True,\n",
    "                                                                                             limit=2)))\n",
    "\n",
    "print(json.dumps(response, indent=2))"
   ]
  },
  {
   "cell_type": "code",
   "execution_count": null,
   "metadata": {
    "collapsed": true
   },
   "outputs": [],
   "source": [
    "text = ''"
   ]
  },
  {
   "cell_type": "code",
   "execution_count": null,
   "metadata": {
    "collapsed": true
   },
   "outputs": [],
   "source": [
    "response = natural_language_understanding.analyze(text=text,\n",
    "                                                  features=Features(entities=EntitiesOptions(emotion=True,\n",
    "                                                                                             sentiment=True,\n",
    "                                                                                             limit=2),\n",
    "                                                                    keywords=KeywordsOptions(emotion=True,\n",
    "                                                                                             sentiment=True,\n",
    "                                                                                             limit=2)))\n",
    "\n",
    "print(json.dumps(response, indent=2))"
   ]
  }
 ],
 "metadata": {
  "kernelspec": {
   "display_name": "Python 3",
   "language": "python",
   "name": "python3"
  },
  "language_info": {
   "codemirror_mode": {
    "name": "ipython",
    "version": 3
   },
   "file_extension": ".py",
   "mimetype": "text/x-python",
   "name": "python",
   "nbconvert_exporter": "python",
   "pygments_lexer": "ipython3",
   "version": "3.6.1"
  }
 },
 "nbformat": 4,
 "nbformat_minor": 2
}
