{
 "cells": [
  {
   "cell_type": "code",
   "execution_count": 1,
   "metadata": {
    "collapsed": true
   },
   "outputs": [],
   "source": [
    "import json\n",
    "from watson_developer_cloud import NaturalLanguageUnderstandingV1\n",
    "from watson_developer_cloud.natural_language_understanding_v1 import Features, ConceptsOptions, CategoriesOptions, EmotionOptions, EntitiesOptions, KeywordsOptions, MetadataOptions, RelationsOptions, SemanticRolesOptions, SentimentOptions"
   ]
  },
  {
   "cell_type": "code",
   "execution_count": 2,
   "metadata": {
    "collapsed": true
   },
   "outputs": [],
   "source": [
    "natural_language_understanding = NaturalLanguageUnderstandingV1(url=\"https://gateway-fra.watsonplatform.net/natural-language-understanding/api\",\n",
    "                                                                username='545acdbc-0fa8-4807-ac6a-be86d3ca158c',\n",
    "                                                                password='2SewOkZVnxrq',\n",
    "                                                                version='2018-03-16')"
   ]
  },
  {
   "cell_type": "code",
   "execution_count": 3,
   "metadata": {
    "collapsed": true
   },
   "outputs": [],
   "source": [
    "text = 'IBM is an American multinational technology company headquartered in Armonk, New York, United States, with operations in over 170 countries.'"
   ]
  },
  {
   "cell_type": "markdown",
   "metadata": {},
   "source": [
    "**concepts** gives high level concepts mentioned in the text<br>\n",
    "**categories** give back Top 3 categories<br>\n",
    "**emotion** which emotions for the text or specific words<br>\n",
    "**entities** which topics have been found and emotions for topics<br>\n",
    "**keywords** important words in the text<br>\n",
    "**metadata** only for html and url<br>\n",
    "**relations** finds relations between topics in the text<br>\n",
    "**semantic_roles** analysis of subject, object, tense in the text<br>\n",
    "**sentiment** whole text is: positive, neutral, negative <br>"
   ]
  },
  {
   "cell_type": "markdown",
   "metadata": {},
   "source": [
    "### Watson Needed Keys\n",
    "language<br>\n",
    "usage -> text_characters<br>\n",
    "emotion -> document -> emotion -> anger<br>\n",
    "emotion -> document -> emotion -> disgust<br>\n",
    "emotion -> document -> emotion -> fear<br>\n",
    "emotion -> document -> emotion -> joy<br>\n",
    "emotion -> document -> emotion -> sadness<br>\n",
    "emotion -> targets[0] -> text<br>\n",
    "emotion -> targets[0] -> emotion -> anger<br>\n",
    "emotion -> targets[0] -> emotion -> disgust<br>\n",
    "emotion -> targets[0] -> emotion -> fear<br>\n",
    "emotion -> targets[0] -> emotion -> joy<br>\n",
    "emotion -> targets[0] -> emotion -> sadness<br>\n",
    "\n",
    "for <br>\n",
    "entities -> count<br>\n",
    "entities -> text<br>\n",
    "entities -> emotion -> anger<br>\n",
    "entities -> emotion -> disgust<br>\n",
    "entities -> emotion -> fear<br>\n",
    "entities -> emotion -> joy<br>\n",
    "entities -> emotion -> sadness<br>\n",
    "entities -> relevance<br>\n",
    "entities -> type<br>\n",
    "\n",
    "sentiment -> document -> score<br>"
   ]
  },
  {
   "cell_type": "code",
   "execution_count": 4,
   "metadata": {},
   "outputs": [
    {
     "data": {
      "text/plain": [
       "'IBM is an American multinational technology company headquartered in Armonk, New York, United States, with operations in over 170 countries.'"
      ]
     },
     "execution_count": 4,
     "metadata": {},
     "output_type": "execute_result"
    }
   ],
   "source": [
    "text"
   ]
  },
  {
   "cell_type": "code",
   "execution_count": 5,
   "metadata": {
    "scrolled": false
   },
   "outputs": [
    {
     "name": "stdout",
     "output_type": "stream",
     "text": [
      "{\n",
      "  \"usage\": {\n",
      "    \"text_units\": 1,\n",
      "    \"text_characters\": 140,\n",
      "    \"features\": 3\n",
      "  },\n",
      "  \"sentiment\": {\n",
      "    \"document\": {\n",
      "      \"score\": 0.0,\n",
      "      \"label\": \"neutral\"\n",
      "    }\n",
      "  },\n",
      "  \"language\": \"en\",\n",
      "  \"entities\": [\n",
      "    {\n",
      "      \"type\": \"Company\",\n",
      "      \"text\": \"IBM\",\n",
      "      \"relevance\": 0.33,\n",
      "      \"emotion\": {\n",
      "        \"sadness\": 0.085259,\n",
      "        \"joy\": 0.026169,\n",
      "        \"fear\": 0.02454,\n",
      "        \"disgust\": 0.088711,\n",
      "        \"anger\": 0.033078\n",
      "      },\n",
      "      \"disambiguation\": {\n",
      "        \"subtype\": [\n",
      "          \"SoftwareLicense\",\n",
      "          \"OperatingSystemDeveloper\",\n",
      "          \"ProcessorManufacturer\",\n",
      "          \"SoftwareDeveloper\",\n",
      "          \"CompanyFounder\",\n",
      "          \"ProgrammingLanguageDesigner\",\n",
      "          \"ProgrammingLanguageDeveloper\"\n",
      "        ],\n",
      "        \"name\": \"IBM\",\n",
      "        \"dbpedia_resource\": \"http://dbpedia.org/resource/IBM\"\n",
      "      },\n",
      "      \"count\": 1\n",
      "    },\n",
      "    {\n",
      "      \"type\": \"Location\",\n",
      "      \"text\": \"Armonk\",\n",
      "      \"relevance\": 0.33,\n",
      "      \"emotion\": {\n",
      "        \"sadness\": 0.085259,\n",
      "        \"joy\": 0.026169,\n",
      "        \"fear\": 0.02454,\n",
      "        \"disgust\": 0.088711,\n",
      "        \"anger\": 0.033078\n",
      "      },\n",
      "      \"disambiguation\": {\n",
      "        \"subtype\": [\n",
      "          \"City\"\n",
      "        ]\n",
      "      },\n",
      "      \"count\": 1\n",
      "    },\n",
      "    {\n",
      "      \"type\": \"Location\",\n",
      "      \"text\": \"New York\",\n",
      "      \"relevance\": 0.33,\n",
      "      \"emotion\": {\n",
      "        \"sadness\": 0.166741,\n",
      "        \"joy\": 0.228903,\n",
      "        \"fear\": 0.057987,\n",
      "        \"disgust\": 0.050965,\n",
      "        \"anger\": 0.054653\n",
      "      },\n",
      "      \"disambiguation\": {\n",
      "        \"subtype\": [\n",
      "          \"PoliticalDistrict\",\n",
      "          \"GovernmentalJurisdiction\",\n",
      "          \"PlaceWithNeighborhoods\",\n",
      "          \"WineRegion\",\n",
      "          \"FilmScreeningVenue\",\n",
      "          \"City\"\n",
      "        ],\n",
      "        \"name\": \"New York City\",\n",
      "        \"dbpedia_resource\": \"http://dbpedia.org/resource/New_York_City\"\n",
      "      },\n",
      "      \"count\": 1\n",
      "    },\n",
      "    {\n",
      "      \"type\": \"Location\",\n",
      "      \"text\": \"United States\",\n",
      "      \"relevance\": 0.33,\n",
      "      \"emotion\": {\n",
      "        \"sadness\": 0.219155,\n",
      "        \"joy\": 0.158235,\n",
      "        \"fear\": 0.094616,\n",
      "        \"disgust\": 0.151352,\n",
      "        \"anger\": 0.051348\n",
      "      },\n",
      "      \"disambiguation\": {\n",
      "        \"subtype\": [\n",
      "          \"Region\",\n",
      "          \"AdministrativeDivision\",\n",
      "          \"GovernmentalJurisdiction\",\n",
      "          \"FilmEditor\",\n",
      "          \"Country\"\n",
      "        ],\n",
      "        \"name\": \"United States\",\n",
      "        \"dbpedia_resource\": \"http://dbpedia.org/resource/United_States\"\n",
      "      },\n",
      "      \"count\": 1\n",
      "    }\n",
      "  ],\n",
      "  \"emotion\": {\n",
      "    \"targets\": [\n",
      "      {\n",
      "        \"text\": \"ibm\",\n",
      "        \"emotion\": {\n",
      "          \"sadness\": 0.085259,\n",
      "          \"joy\": 0.026169,\n",
      "          \"fear\": 0.02454,\n",
      "          \"disgust\": 0.088711,\n",
      "          \"anger\": 0.033078\n",
      "        }\n",
      "      }\n",
      "    ],\n",
      "    \"document\": {\n",
      "      \"emotion\": {\n",
      "        \"sadness\": 0.082208,\n",
      "        \"joy\": 0.074673,\n",
      "        \"fear\": 0.050149,\n",
      "        \"disgust\": 0.035402,\n",
      "        \"anger\": 0.024366\n",
      "      }\n",
      "    }\n",
      "  }\n",
      "}\n"
     ]
    }
   ],
   "source": [
    "response = natural_language_understanding.analyze(text=text,\n",
    "                                                  return_analyzed_text=False,\n",
    "                                                  features=Features(\n",
    "                                                      #concepts=ConceptsOptions(),\n",
    "                                                      #categories=CategoriesOptions(),\n",
    "                                                      emotion=EmotionOptions(targets=['ibm']),\n",
    "                                                      entities=EntitiesOptions(emotion=True,\n",
    "                                                                               limit=5),\n",
    "                                                      #keywords=KeywordsOptions(),\n",
    "                                                      #relations=RelationsOptions(),\n",
    "                                                      #semantic_roles=SemanticRolesOptions(),\n",
    "                                                      sentiment=SentimentOptions()))\n",
    "\n",
    "print(json.dumps(response, indent=2))"
   ]
  },
  {
   "cell_type": "code",
   "execution_count": 6,
   "metadata": {},
   "outputs": [
    {
     "name": "stdout",
     "output_type": "stream",
     "text": [
      "usage\n",
      "sentiment\n",
      "language\n",
      "entities\n",
      "emotion\n"
     ]
    }
   ],
   "source": [
    "for key in response.keys():\n",
    "    print(key)"
   ]
  },
  {
   "cell_type": "code",
   "execution_count": 7,
   "metadata": {},
   "outputs": [
    {
     "data": {
      "text/plain": [
       "[{'count': 1,\n",
       "  'disambiguation': {'dbpedia_resource': 'http://dbpedia.org/resource/IBM',\n",
       "   'name': 'IBM',\n",
       "   'subtype': ['SoftwareLicense',\n",
       "    'OperatingSystemDeveloper',\n",
       "    'ProcessorManufacturer',\n",
       "    'SoftwareDeveloper',\n",
       "    'CompanyFounder',\n",
       "    'ProgrammingLanguageDesigner',\n",
       "    'ProgrammingLanguageDeveloper']},\n",
       "  'emotion': {'anger': 0.033078,\n",
       "   'disgust': 0.088711,\n",
       "   'fear': 0.02454,\n",
       "   'joy': 0.026169,\n",
       "   'sadness': 0.085259},\n",
       "  'relevance': 0.33,\n",
       "  'text': 'IBM',\n",
       "  'type': 'Company'},\n",
       " {'count': 1,\n",
       "  'disambiguation': {'subtype': ['City']},\n",
       "  'emotion': {'anger': 0.033078,\n",
       "   'disgust': 0.088711,\n",
       "   'fear': 0.02454,\n",
       "   'joy': 0.026169,\n",
       "   'sadness': 0.085259},\n",
       "  'relevance': 0.33,\n",
       "  'text': 'Armonk',\n",
       "  'type': 'Location'},\n",
       " {'count': 1,\n",
       "  'disambiguation': {'dbpedia_resource': 'http://dbpedia.org/resource/New_York_City',\n",
       "   'name': 'New York City',\n",
       "   'subtype': ['PoliticalDistrict',\n",
       "    'GovernmentalJurisdiction',\n",
       "    'PlaceWithNeighborhoods',\n",
       "    'WineRegion',\n",
       "    'FilmScreeningVenue',\n",
       "    'City']},\n",
       "  'emotion': {'anger': 0.054653,\n",
       "   'disgust': 0.050965,\n",
       "   'fear': 0.057987,\n",
       "   'joy': 0.228903,\n",
       "   'sadness': 0.166741},\n",
       "  'relevance': 0.33,\n",
       "  'text': 'New York',\n",
       "  'type': 'Location'},\n",
       " {'count': 1,\n",
       "  'disambiguation': {'dbpedia_resource': 'http://dbpedia.org/resource/United_States',\n",
       "   'name': 'United States',\n",
       "   'subtype': ['Region',\n",
       "    'AdministrativeDivision',\n",
       "    'GovernmentalJurisdiction',\n",
       "    'FilmEditor',\n",
       "    'Country']},\n",
       "  'emotion': {'anger': 0.051348,\n",
       "   'disgust': 0.151352,\n",
       "   'fear': 0.094616,\n",
       "   'joy': 0.158235,\n",
       "   'sadness': 0.219155},\n",
       "  'relevance': 0.33,\n",
       "  'text': 'United States',\n",
       "  'type': 'Location'}]"
      ]
     },
     "execution_count": 7,
     "metadata": {},
     "output_type": "execute_result"
    }
   ],
   "source": [
    "response['entities']"
   ]
  },
  {
   "cell_type": "code",
   "execution_count": null,
   "metadata": {
    "collapsed": true
   },
   "outputs": [],
   "source": []
  }
 ],
 "metadata": {
  "kernelspec": {
   "display_name": "Python 3",
   "language": "python",
   "name": "python3"
  },
  "language_info": {
   "codemirror_mode": {
    "name": "ipython",
    "version": 3
   },
   "file_extension": ".py",
   "mimetype": "text/x-python",
   "name": "python",
   "nbconvert_exporter": "python",
   "pygments_lexer": "ipython3",
   "version": "3.6.1"
  }
 },
 "nbformat": 4,
 "nbformat_minor": 2
}
